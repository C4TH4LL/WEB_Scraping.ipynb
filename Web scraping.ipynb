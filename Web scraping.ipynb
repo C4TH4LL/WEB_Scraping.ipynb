{
 "cells": [
  {
   "cell_type": "code",
   "execution_count": 3,
   "id": "244bf630",
   "metadata": {},
   "outputs": [],
   "source": [
    "import requests\n",
    "import pandas as pd\n",
    "from bs4 import BeautifulSoup"
   ]
  },
  {
   "cell_type": "code",
   "execution_count": 4,
   "id": "744f8486",
   "metadata": {},
   "outputs": [],
   "source": [
    "url = 'https://liquipedia.net/dota2/DreamLeague/Season_20'\n",
    "page = requests.get(url)"
   ]
  },
  {
   "cell_type": "code",
   "execution_count": 5,
   "id": "550b164f",
   "metadata": {},
   "outputs": [],
   "source": [
    "soup = BeautifulSoup(page.content,'html.parser')"
   ]
  },
  {
   "cell_type": "code",
   "execution_count": 6,
   "id": "15875f1a",
   "metadata": {},
   "outputs": [
    {
     "data": {
      "text/plain": [
       "['Group A', 'Group B', 'Group Stage 2']"
      ]
     },
     "execution_count": 6,
     "metadata": {},
     "output_type": "execute_result"
    }
   ],
   "source": [
    "eq = soup.find_all('span',class_=\"mw-headline\")\n",
    "general = list()\n",
    "for i in eq:\n",
    "    general.append(i.text)\n",
    "grupos = [general[5],general[6],general[7]]\n",
    "grupos"
   ]
  },
  {
   "cell_type": "code",
   "execution_count": 7,
   "id": "70ed775e",
   "metadata": {},
   "outputs": [
    {
     "data": {
      "text/plain": [
       "[' Team Spirit',\n",
       " ' PSG.LGD',\n",
       " ' Talon Esports',\n",
       " ' Evil Geniuses',\n",
       " ' Tundra Esports',\n",
       " ' Team Secret',\n",
       " ' TSM',\n",
       " ' Team Liquid',\n",
       " ' 9Pandas',\n",
       " ' BetBoom Team',\n",
       " ' Gaimin Gladiators',\n",
       " ' Team Aster',\n",
       " ' beastcoast',\n",
       " ' Shopify Rebellion',\n",
       " ' OG',\n",
       " ' Entity',\n",
       " ' PSG.LGD',\n",
       " ' BetBoom Team',\n",
       " ' Talon Esports',\n",
       " ' 9Pandas',\n",
       " ' Evil Geniuses',\n",
       " ' Gaimin Gladiators',\n",
       " ' Team Spirit',\n",
       " ' Team Aster']"
      ]
     },
     "execution_count": 7,
     "metadata": {},
     "output_type": "execute_result"
    }
   ],
   "source": [
    "equip = soup.find_all('td',class_=\"grouptableslot\")\n",
    "equipos = list()\n",
    "for i in equip:\n",
    "    equipos.append(i.text)\n",
    "\n",
    "equipos"
   ]
  },
  {
   "cell_type": "code",
   "execution_count": 8,
   "id": "62ea2a4d",
   "metadata": {},
   "outputs": [],
   "source": [
    "#LLAMADO DE TODO LOS NUMEROS DE POSICIONAMIENTO DE LA TABLA DE EQUIPOS\n",
    "pnt = soup.find_all('td',class_=(\"bg-up\",'bg-stay','bg-down'))\n",
    "puntos = list()\n",
    "for i in pnt:\n",
    "    puntos.append(i.text)"
   ]
  },
  {
   "cell_type": "code",
   "execution_count": 9,
   "id": "efa047e3",
   "metadata": {},
   "outputs": [
    {
     "data": {
      "text/plain": [
       "['1.', '2.', '2.', '4.', '5.', '6.', '7.', '8.']"
      ]
     },
     "execution_count": 9,
     "metadata": {},
     "output_type": "execute_result"
    }
   ],
   "source": [
    "#DEFINICION DE POSICIONAMIENTO EN LA TABLA DE LOS EQUIPOS A B Y STAGE\n",
    "grupo_a1 = puntos[:8]\n",
    "grupo_b1 = puntos[8:16]\n",
    "grupo_stage_1 = puntos[16:]\n",
    "\n",
    "#SACAMAOS AL PRIMER GRUPO A\n",
    "grupo_a1"
   ]
  },
  {
   "cell_type": "code",
   "execution_count": 10,
   "id": "259b04a1",
   "metadata": {},
   "outputs": [
    {
     "data": {
      "text/plain": [
       "['1.', '2.', '2.', '4.', '5.', '6.', '7.', '8.']"
      ]
     },
     "execution_count": 10,
     "metadata": {},
     "output_type": "execute_result"
    }
   ],
   "source": [
    "#GRUPO B\n",
    "grupo_b1"
   ]
  },
  {
   "cell_type": "code",
   "execution_count": 11,
   "id": "64c2cbeb",
   "metadata": {},
   "outputs": [
    {
     "data": {
      "text/plain": [
       "['1.', '2.', '2.', '4.', '4.', '4.', '4.', '8.']"
      ]
     },
     "execution_count": 11,
     "metadata": {},
     "output_type": "execute_result"
    }
   ],
   "source": [
    "#GRUPO C\n",
    "grupo_stage_1"
   ]
  },
  {
   "cell_type": "code",
   "execution_count": 12,
   "id": "c6683148",
   "metadata": {},
   "outputs": [
    {
     "data": {
      "text/plain": [
       "[' Team Spirit',\n",
       " ' PSG.LGD',\n",
       " ' Talon Esports',\n",
       " ' Evil Geniuses',\n",
       " ' Tundra Esports',\n",
       " ' Team Secret',\n",
       " ' TSM',\n",
       " ' Team Liquid']"
      ]
     },
     "execution_count": 12,
     "metadata": {},
     "output_type": "execute_result"
    }
   ],
   "source": [
    "#DEFINICION DE LOS EQUIPOS EN LOS GRUPOS A B Y STAGE\n",
    "grupo_a = equipos[:8]\n",
    "grupo_b = equipos[8:16]\n",
    "grupo_stage = equipos[16:]\n",
    "\n",
    "\n",
    "#EQUIPOS EN EL GRUPO A\n",
    "grupo_a"
   ]
  },
  {
   "cell_type": "code",
   "execution_count": 13,
   "id": "6c679fb3",
   "metadata": {},
   "outputs": [
    {
     "data": {
      "text/plain": [
       "[' 9Pandas',\n",
       " ' BetBoom Team',\n",
       " ' Gaimin Gladiators',\n",
       " ' Team Aster',\n",
       " ' beastcoast',\n",
       " ' Shopify Rebellion',\n",
       " ' OG',\n",
       " ' Entity']"
      ]
     },
     "execution_count": 13,
     "metadata": {},
     "output_type": "execute_result"
    }
   ],
   "source": [
    "#EQUIPOS EN EL GRUPO B\n",
    "grupo_b"
   ]
  },
  {
   "cell_type": "code",
   "execution_count": 14,
   "id": "872bf07d",
   "metadata": {},
   "outputs": [
    {
     "data": {
      "text/plain": [
       "[' PSG.LGD',\n",
       " ' BetBoom Team',\n",
       " ' Talon Esports',\n",
       " ' 9Pandas',\n",
       " ' Evil Geniuses',\n",
       " ' Gaimin Gladiators',\n",
       " ' Team Spirit',\n",
       " ' Team Aster']"
      ]
     },
     "execution_count": 14,
     "metadata": {},
     "output_type": "execute_result"
    }
   ],
   "source": [
    "#EQUIPOS EN EL GRUPO C\n",
    "grupo_stage"
   ]
  },
  {
   "cell_type": "code",
   "execution_count": 15,
   "id": "cf813ff3",
   "metadata": {},
   "outputs": [
    {
     "name": "stdout",
     "output_type": "stream",
     "text": [
      "['1-6-0', '1-6-0', '1-6-0', '0-7-0', '1-5-1', '1-5-1', '0-6-1', '1-3-3', '4-2-1', '3-2-2', '2-4-1', '2-4-1', '1-5-1', '0-6-1', '1-4-2', '0-3-4', '3-0', '2-0', '2-1', '1-2', '1-2', '1-2', '1-2', '0-2']\n"
     ]
    }
   ],
   "source": [
    "pt = soup.find_all('td',style=\"font-weight:bolder;white-space:pre\")\n",
    "puntos1 = list()\n",
    "for i in pt:\n",
    "    puntos1.append(i.text)\n",
    "#IMPORTANDO TODOS LOS PUNTAJES DE LOS PARTIDOS JUGADOS POR LOS EQUIPOS\n",
    "print(puntos1)"
   ]
  },
  {
   "cell_type": "code",
   "execution_count": 16,
   "id": "25c79c8d",
   "metadata": {},
   "outputs": [
    {
     "data": {
      "text/plain": [
       "['1-6-0', '1-6-0', '1-6-0', '0-7-0', '1-5-1', '1-5-1', '0-6-1', '1-3-3']"
      ]
     },
     "execution_count": 16,
     "metadata": {},
     "output_type": "execute_result"
    }
   ],
   "source": [
    "#DEFINICION DE PUNTOS PARA CADA GRUPO\n",
    "grupo_a2 = puntos1[:8]\n",
    "grupo_b2 = puntos1[8:16]\n",
    "grupo_stage_2 = puntos1[16:]\n",
    "\n",
    "#PUNTAJE DE LOS EQUIPOS DEL GRUPO A\n",
    "grupo_a2"
   ]
  },
  {
   "cell_type": "code",
   "execution_count": 17,
   "id": "d8056d77",
   "metadata": {},
   "outputs": [
    {
     "data": {
      "text/plain": [
       "['4-2-1', '3-2-2', '2-4-1', '2-4-1', '1-5-1', '0-6-1', '1-4-2', '0-3-4']"
      ]
     },
     "execution_count": 17,
     "metadata": {},
     "output_type": "execute_result"
    }
   ],
   "source": [
    "#PUNTAJES DE LOS EQUIPOS DEL GRUPO B\n",
    "grupo_b2"
   ]
  },
  {
   "cell_type": "code",
   "execution_count": 18,
   "id": "2f29ae50",
   "metadata": {},
   "outputs": [
    {
     "data": {
      "text/plain": [
       "['3-0', '2-0', '2-1', '1-2', '1-2', '1-2', '1-2', '0-2']"
      ]
     },
     "execution_count": 18,
     "metadata": {},
     "output_type": "execute_result"
    }
   ],
   "source": [
    "#PUNTAJES DE LOS EQUIPOS DEL GRUPO C\n",
    "grupo_stage_2"
   ]
  },
  {
   "cell_type": "code",
   "execution_count": 19,
   "id": "8ecd943b",
   "metadata": {},
   "outputs": [
    {
     "name": "stdout",
     "output_type": "stream",
     "text": [
      "['8-6', '8-6', '8-6', '7-7', '7-7', '7-7', '6-8', '5-9', '10-4', '8-6', '8-6', '8-6', '7-7', '6-8', '6-8', '3-11', '6-1', '4-2', '4-2', '3-5', '4-4', '3-4', '2-5', '1-4']\n"
     ]
    }
   ],
   "source": [
    "#IMPORTANTO VICTORIAS Y DERROTAS EN TOTAL\n",
    "pt2 = soup.find_all('td',style=\"white-space:pre\")\n",
    "puntos2=list()\n",
    "for i in pt2:\n",
    "  puntos2.append(i.text)\n",
    "\n",
    "print(puntos2)"
   ]
  },
  {
   "cell_type": "code",
   "execution_count": 20,
   "id": "b80cf9a8",
   "metadata": {},
   "outputs": [
    {
     "data": {
      "text/plain": [
       "['8-6', '8-6', '8-6', '7-7', '7-7', '7-7', '6-8', '5-9']"
      ]
     },
     "execution_count": 20,
     "metadata": {},
     "output_type": "execute_result"
    }
   ],
   "source": [
    "#DEFINICIENDO LOS DATOS DE VICTORIAS Y DERROTAS PARA CADA EQUIPO\n",
    "grupo_a3 = puntos2[:8]\n",
    "grupo_b3 = puntos2[8:16]\n",
    "grupo_stage_3 = puntos2[16:]\n",
    "\n",
    "#VICTORIAS Y DERROTAS TOTALES PARA EL GRUPO A\n",
    "grupo_a3"
   ]
  },
  {
   "cell_type": "code",
   "execution_count": 21,
   "id": "e081c7b7",
   "metadata": {},
   "outputs": [
    {
     "data": {
      "text/plain": [
       "['10-4', '8-6', '8-6', '8-6', '7-7', '6-8', '6-8', '3-11']"
      ]
     },
     "execution_count": 21,
     "metadata": {},
     "output_type": "execute_result"
    }
   ],
   "source": [
    "#VICTORIAS Y DERROTAS TOTALES PARA EL GRUPO B\n",
    "grupo_b3"
   ]
  },
  {
   "cell_type": "code",
   "execution_count": 22,
   "id": "392bf80b",
   "metadata": {},
   "outputs": [
    {
     "data": {
      "text/plain": [
       "['6-1', '4-2', '4-2', '3-5', '4-4', '3-4', '2-5', '1-4']"
      ]
     },
     "execution_count": 22,
     "metadata": {},
     "output_type": "execute_result"
    }
   ],
   "source": [
    "#VICTORIAS Y DERROTAS TOTALES PARA EL GRUPO STAGE\n",
    "grupo_stage_3"
   ]
  },
  {
   "cell_type": "code",
   "execution_count": 39,
   "id": "3cd5700f",
   "metadata": {},
   "outputs": [],
   "source": [
    "#ARMAMOS NUESTROS CUADROS \n",
    "#PARA EL GRUPO A\n",
    "df1 = pd.DataFrame({'Orden':grupo_a1,'Equipos':grupo_a,'Win/Tie/Loss':grupo_a2,'Matches_BO3':grupo_a3})\n",
    "df1.set_index('Orden',inplace=True)\n",
    "#PARA EL GRUPO B\n",
    "df2 = pd.DataFrame({'Orden':grupo_b1,'Equipos':grupo_b,'Win/Tie/Loss':grupo_b2,'Matches_BO3':grupo_b3})\n",
    "df2.set_index('Orden',inplace=True)\n",
    "#PARA EL GRUPO STAGE\n",
    "df3 = pd.DataFrame({'Orden':grupo_stage_1,'Equipos':grupo_stage,'Win/Tie/Loss':grupo_stage_2,'Matches_BO3':grupo_stage_3})\n",
    "df3.set_index('Orden',inplace=True)"
   ]
  },
  {
   "cell_type": "code",
   "execution_count": 40,
   "id": "4eb9f227",
   "metadata": {},
   "outputs": [
    {
     "name": "stdout",
     "output_type": "stream",
     "text": [
      "\t\tGRUPO A\n",
      "___________________________________________\n"
     ]
    },
    {
     "data": {
      "text/html": [
       "<div>\n",
       "<style scoped>\n",
       "    .dataframe tbody tr th:only-of-type {\n",
       "        vertical-align: middle;\n",
       "    }\n",
       "\n",
       "    .dataframe tbody tr th {\n",
       "        vertical-align: top;\n",
       "    }\n",
       "\n",
       "    .dataframe thead th {\n",
       "        text-align: right;\n",
       "    }\n",
       "</style>\n",
       "<table border=\"1\" class=\"dataframe\">\n",
       "  <thead>\n",
       "    <tr style=\"text-align: right;\">\n",
       "      <th></th>\n",
       "      <th>Equipos</th>\n",
       "      <th>Win/Tie/Loss</th>\n",
       "      <th>Matches_BO3</th>\n",
       "    </tr>\n",
       "    <tr>\n",
       "      <th>Orden</th>\n",
       "      <th></th>\n",
       "      <th></th>\n",
       "      <th></th>\n",
       "    </tr>\n",
       "  </thead>\n",
       "  <tbody>\n",
       "    <tr>\n",
       "      <th>1.</th>\n",
       "      <td>Team Spirit</td>\n",
       "      <td>1-6-0</td>\n",
       "      <td>8-6</td>\n",
       "    </tr>\n",
       "    <tr>\n",
       "      <th>2.</th>\n",
       "      <td>PSG.LGD</td>\n",
       "      <td>1-6-0</td>\n",
       "      <td>8-6</td>\n",
       "    </tr>\n",
       "    <tr>\n",
       "      <th>2.</th>\n",
       "      <td>Talon Esports</td>\n",
       "      <td>1-6-0</td>\n",
       "      <td>8-6</td>\n",
       "    </tr>\n",
       "    <tr>\n",
       "      <th>4.</th>\n",
       "      <td>Evil Geniuses</td>\n",
       "      <td>0-7-0</td>\n",
       "      <td>7-7</td>\n",
       "    </tr>\n",
       "    <tr>\n",
       "      <th>5.</th>\n",
       "      <td>Tundra Esports</td>\n",
       "      <td>1-5-1</td>\n",
       "      <td>7-7</td>\n",
       "    </tr>\n",
       "    <tr>\n",
       "      <th>6.</th>\n",
       "      <td>Team Secret</td>\n",
       "      <td>1-5-1</td>\n",
       "      <td>7-7</td>\n",
       "    </tr>\n",
       "    <tr>\n",
       "      <th>7.</th>\n",
       "      <td>TSM</td>\n",
       "      <td>0-6-1</td>\n",
       "      <td>6-8</td>\n",
       "    </tr>\n",
       "    <tr>\n",
       "      <th>8.</th>\n",
       "      <td>Team Liquid</td>\n",
       "      <td>1-3-3</td>\n",
       "      <td>5-9</td>\n",
       "    </tr>\n",
       "  </tbody>\n",
       "</table>\n",
       "</div>"
      ],
      "text/plain": [
       "               Equipos Win/Tie/Loss Matches_BO3\n",
       "Orden                                          \n",
       "1.         Team Spirit        1-6-0         8-6\n",
       "2.             PSG.LGD        1-6-0         8-6\n",
       "2.       Talon Esports        1-6-0         8-6\n",
       "4.       Evil Geniuses        0-7-0         7-7\n",
       "5.      Tundra Esports        1-5-1         7-7\n",
       "6.         Team Secret        1-5-1         7-7\n",
       "7.                 TSM        0-6-1         6-8\n",
       "8.         Team Liquid        1-3-3         5-9"
      ]
     },
     "execution_count": 40,
     "metadata": {},
     "output_type": "execute_result"
    }
   ],
   "source": [
    "#GRUPO A\n",
    "print(\"\\t\\tGRUPO A\")\n",
    "print(\"___________________________________________\")\n",
    "df1"
   ]
  },
  {
   "cell_type": "code",
   "execution_count": 41,
   "id": "969cc230",
   "metadata": {},
   "outputs": [
    {
     "name": "stdout",
     "output_type": "stream",
     "text": [
      "\t\tGRUPO B\n",
      "___________________________________________\n"
     ]
    },
    {
     "data": {
      "text/html": [
       "<div>\n",
       "<style scoped>\n",
       "    .dataframe tbody tr th:only-of-type {\n",
       "        vertical-align: middle;\n",
       "    }\n",
       "\n",
       "    .dataframe tbody tr th {\n",
       "        vertical-align: top;\n",
       "    }\n",
       "\n",
       "    .dataframe thead th {\n",
       "        text-align: right;\n",
       "    }\n",
       "</style>\n",
       "<table border=\"1\" class=\"dataframe\">\n",
       "  <thead>\n",
       "    <tr style=\"text-align: right;\">\n",
       "      <th></th>\n",
       "      <th>Equipos</th>\n",
       "      <th>Win/Tie/Loss</th>\n",
       "      <th>Matches_BO3</th>\n",
       "    </tr>\n",
       "    <tr>\n",
       "      <th>Orden</th>\n",
       "      <th></th>\n",
       "      <th></th>\n",
       "      <th></th>\n",
       "    </tr>\n",
       "  </thead>\n",
       "  <tbody>\n",
       "    <tr>\n",
       "      <th>1.</th>\n",
       "      <td>9Pandas</td>\n",
       "      <td>4-2-1</td>\n",
       "      <td>10-4</td>\n",
       "    </tr>\n",
       "    <tr>\n",
       "      <th>2.</th>\n",
       "      <td>BetBoom Team</td>\n",
       "      <td>3-2-2</td>\n",
       "      <td>8-6</td>\n",
       "    </tr>\n",
       "    <tr>\n",
       "      <th>2.</th>\n",
       "      <td>Gaimin Gladiators</td>\n",
       "      <td>2-4-1</td>\n",
       "      <td>8-6</td>\n",
       "    </tr>\n",
       "    <tr>\n",
       "      <th>4.</th>\n",
       "      <td>Team Aster</td>\n",
       "      <td>2-4-1</td>\n",
       "      <td>8-6</td>\n",
       "    </tr>\n",
       "    <tr>\n",
       "      <th>5.</th>\n",
       "      <td>beastcoast</td>\n",
       "      <td>1-5-1</td>\n",
       "      <td>7-7</td>\n",
       "    </tr>\n",
       "    <tr>\n",
       "      <th>6.</th>\n",
       "      <td>Shopify Rebellion</td>\n",
       "      <td>0-6-1</td>\n",
       "      <td>6-8</td>\n",
       "    </tr>\n",
       "    <tr>\n",
       "      <th>7.</th>\n",
       "      <td>OG</td>\n",
       "      <td>1-4-2</td>\n",
       "      <td>6-8</td>\n",
       "    </tr>\n",
       "    <tr>\n",
       "      <th>8.</th>\n",
       "      <td>Entity</td>\n",
       "      <td>0-3-4</td>\n",
       "      <td>3-11</td>\n",
       "    </tr>\n",
       "  </tbody>\n",
       "</table>\n",
       "</div>"
      ],
      "text/plain": [
       "                  Equipos Win/Tie/Loss Matches_BO3\n",
       "Orden                                             \n",
       "1.                9Pandas        4-2-1        10-4\n",
       "2.           BetBoom Team        3-2-2         8-6\n",
       "2.      Gaimin Gladiators        2-4-1         8-6\n",
       "4.             Team Aster        2-4-1         8-6\n",
       "5.             beastcoast        1-5-1         7-7\n",
       "6.      Shopify Rebellion        0-6-1         6-8\n",
       "7.                     OG        1-4-2         6-8\n",
       "8.                 Entity        0-3-4        3-11"
      ]
     },
     "execution_count": 41,
     "metadata": {},
     "output_type": "execute_result"
    }
   ],
   "source": [
    "#GRUPO B\n",
    "print(\"\\t\\tGRUPO B\")\n",
    "print(\"___________________________________________\")\n",
    "df2"
   ]
  },
  {
   "cell_type": "code",
   "execution_count": 42,
   "id": "da338112",
   "metadata": {},
   "outputs": [
    {
     "name": "stdout",
     "output_type": "stream",
     "text": [
      "\t\tGRUPO STAGE 2\n",
      "___________________________________________\n"
     ]
    },
    {
     "data": {
      "text/html": [
       "<div>\n",
       "<style scoped>\n",
       "    .dataframe tbody tr th:only-of-type {\n",
       "        vertical-align: middle;\n",
       "    }\n",
       "\n",
       "    .dataframe tbody tr th {\n",
       "        vertical-align: top;\n",
       "    }\n",
       "\n",
       "    .dataframe thead th {\n",
       "        text-align: right;\n",
       "    }\n",
       "</style>\n",
       "<table border=\"1\" class=\"dataframe\">\n",
       "  <thead>\n",
       "    <tr style=\"text-align: right;\">\n",
       "      <th></th>\n",
       "      <th>Equipos</th>\n",
       "      <th>Win/Tie/Loss</th>\n",
       "      <th>Matches_BO3</th>\n",
       "    </tr>\n",
       "    <tr>\n",
       "      <th>Orden</th>\n",
       "      <th></th>\n",
       "      <th></th>\n",
       "      <th></th>\n",
       "    </tr>\n",
       "  </thead>\n",
       "  <tbody>\n",
       "    <tr>\n",
       "      <th>1.</th>\n",
       "      <td>PSG.LGD</td>\n",
       "      <td>3-0</td>\n",
       "      <td>6-1</td>\n",
       "    </tr>\n",
       "    <tr>\n",
       "      <th>2.</th>\n",
       "      <td>BetBoom Team</td>\n",
       "      <td>2-0</td>\n",
       "      <td>4-2</td>\n",
       "    </tr>\n",
       "    <tr>\n",
       "      <th>2.</th>\n",
       "      <td>Talon Esports</td>\n",
       "      <td>2-1</td>\n",
       "      <td>4-2</td>\n",
       "    </tr>\n",
       "    <tr>\n",
       "      <th>4.</th>\n",
       "      <td>9Pandas</td>\n",
       "      <td>1-2</td>\n",
       "      <td>3-5</td>\n",
       "    </tr>\n",
       "    <tr>\n",
       "      <th>4.</th>\n",
       "      <td>Evil Geniuses</td>\n",
       "      <td>1-2</td>\n",
       "      <td>4-4</td>\n",
       "    </tr>\n",
       "    <tr>\n",
       "      <th>4.</th>\n",
       "      <td>Gaimin Gladiators</td>\n",
       "      <td>1-2</td>\n",
       "      <td>3-4</td>\n",
       "    </tr>\n",
       "    <tr>\n",
       "      <th>4.</th>\n",
       "      <td>Team Spirit</td>\n",
       "      <td>1-2</td>\n",
       "      <td>2-5</td>\n",
       "    </tr>\n",
       "    <tr>\n",
       "      <th>8.</th>\n",
       "      <td>Team Aster</td>\n",
       "      <td>0-2</td>\n",
       "      <td>1-4</td>\n",
       "    </tr>\n",
       "  </tbody>\n",
       "</table>\n",
       "</div>"
      ],
      "text/plain": [
       "                  Equipos Win/Tie/Loss Matches_BO3\n",
       "Orden                                             \n",
       "1.                PSG.LGD          3-0         6-1\n",
       "2.           BetBoom Team          2-0         4-2\n",
       "2.          Talon Esports          2-1         4-2\n",
       "4.                9Pandas          1-2         3-5\n",
       "4.          Evil Geniuses          1-2         4-4\n",
       "4.      Gaimin Gladiators          1-2         3-4\n",
       "4.            Team Spirit          1-2         2-5\n",
       "8.             Team Aster          0-2         1-4"
      ]
     },
     "execution_count": 42,
     "metadata": {},
     "output_type": "execute_result"
    }
   ],
   "source": [
    "#GRUPO STAGE 2\n",
    "print(\"\\t\\tGRUPO STAGE 2\")\n",
    "print(\"___________________________________________\")\n",
    "df3"
   ]
  },
  {
   "cell_type": "code",
   "execution_count": 43,
   "id": "7f53a76d",
   "metadata": {},
   "outputs": [
    {
     "data": {
      "text/html": [
       "<div>\n",
       "<style scoped>\n",
       "    .dataframe tbody tr th:only-of-type {\n",
       "        vertical-align: middle;\n",
       "    }\n",
       "\n",
       "    .dataframe tbody tr th {\n",
       "        vertical-align: top;\n",
       "    }\n",
       "\n",
       "    .dataframe thead th {\n",
       "        text-align: right;\n",
       "    }\n",
       "</style>\n",
       "<table border=\"1\" class=\"dataframe\">\n",
       "  <thead>\n",
       "    <tr style=\"text-align: right;\">\n",
       "      <th></th>\n",
       "      <th>count</th>\n",
       "      <th>unique</th>\n",
       "      <th>top</th>\n",
       "      <th>freq</th>\n",
       "    </tr>\n",
       "  </thead>\n",
       "  <tbody>\n",
       "    <tr>\n",
       "      <th>Equipos</th>\n",
       "      <td>8</td>\n",
       "      <td>8</td>\n",
       "      <td>Team Spirit</td>\n",
       "      <td>1</td>\n",
       "    </tr>\n",
       "    <tr>\n",
       "      <th>Win/Tie/Loss</th>\n",
       "      <td>8</td>\n",
       "      <td>5</td>\n",
       "      <td>1-6-0</td>\n",
       "      <td>3</td>\n",
       "    </tr>\n",
       "    <tr>\n",
       "      <th>Matches_BO3</th>\n",
       "      <td>8</td>\n",
       "      <td>4</td>\n",
       "      <td>8-6</td>\n",
       "      <td>3</td>\n",
       "    </tr>\n",
       "  </tbody>\n",
       "</table>\n",
       "</div>"
      ],
      "text/plain": [
       "             count unique           top freq\n",
       "Equipos          8      8   Team Spirit    1\n",
       "Win/Tie/Loss     8      5         1-6-0    3\n",
       "Matches_BO3      8      4           8-6    3"
      ]
     },
     "execution_count": 43,
     "metadata": {},
     "output_type": "execute_result"
    }
   ],
   "source": [
    "df1.describe().T"
   ]
  },
  {
   "cell_type": "code",
   "execution_count": 44,
   "id": "ff3da18b",
   "metadata": {},
   "outputs": [
    {
     "data": {
      "text/html": [
       "<div>\n",
       "<style scoped>\n",
       "    .dataframe tbody tr th:only-of-type {\n",
       "        vertical-align: middle;\n",
       "    }\n",
       "\n",
       "    .dataframe tbody tr th {\n",
       "        vertical-align: top;\n",
       "    }\n",
       "\n",
       "    .dataframe thead th {\n",
       "        text-align: right;\n",
       "    }\n",
       "</style>\n",
       "<table border=\"1\" class=\"dataframe\">\n",
       "  <thead>\n",
       "    <tr style=\"text-align: right;\">\n",
       "      <th></th>\n",
       "      <th>count</th>\n",
       "      <th>unique</th>\n",
       "      <th>top</th>\n",
       "      <th>freq</th>\n",
       "    </tr>\n",
       "  </thead>\n",
       "  <tbody>\n",
       "    <tr>\n",
       "      <th>Equipos</th>\n",
       "      <td>8</td>\n",
       "      <td>8</td>\n",
       "      <td>9Pandas</td>\n",
       "      <td>1</td>\n",
       "    </tr>\n",
       "    <tr>\n",
       "      <th>Win/Tie/Loss</th>\n",
       "      <td>8</td>\n",
       "      <td>7</td>\n",
       "      <td>2-4-1</td>\n",
       "      <td>2</td>\n",
       "    </tr>\n",
       "    <tr>\n",
       "      <th>Matches_BO3</th>\n",
       "      <td>8</td>\n",
       "      <td>5</td>\n",
       "      <td>8-6</td>\n",
       "      <td>3</td>\n",
       "    </tr>\n",
       "  </tbody>\n",
       "</table>\n",
       "</div>"
      ],
      "text/plain": [
       "             count unique       top freq\n",
       "Equipos          8      8   9Pandas    1\n",
       "Win/Tie/Loss     8      7     2-4-1    2\n",
       "Matches_BO3      8      5       8-6    3"
      ]
     },
     "execution_count": 44,
     "metadata": {},
     "output_type": "execute_result"
    }
   ],
   "source": [
    "df2.describe().T"
   ]
  },
  {
   "cell_type": "code",
   "execution_count": 45,
   "id": "9d5a7c65",
   "metadata": {},
   "outputs": [
    {
     "data": {
      "text/html": [
       "<div>\n",
       "<style scoped>\n",
       "    .dataframe tbody tr th:only-of-type {\n",
       "        vertical-align: middle;\n",
       "    }\n",
       "\n",
       "    .dataframe tbody tr th {\n",
       "        vertical-align: top;\n",
       "    }\n",
       "\n",
       "    .dataframe thead th {\n",
       "        text-align: right;\n",
       "    }\n",
       "</style>\n",
       "<table border=\"1\" class=\"dataframe\">\n",
       "  <thead>\n",
       "    <tr style=\"text-align: right;\">\n",
       "      <th></th>\n",
       "      <th>count</th>\n",
       "      <th>unique</th>\n",
       "      <th>top</th>\n",
       "      <th>freq</th>\n",
       "    </tr>\n",
       "  </thead>\n",
       "  <tbody>\n",
       "    <tr>\n",
       "      <th>Equipos</th>\n",
       "      <td>8</td>\n",
       "      <td>8</td>\n",
       "      <td>PSG.LGD</td>\n",
       "      <td>1</td>\n",
       "    </tr>\n",
       "    <tr>\n",
       "      <th>Win/Tie/Loss</th>\n",
       "      <td>8</td>\n",
       "      <td>5</td>\n",
       "      <td>1-2</td>\n",
       "      <td>4</td>\n",
       "    </tr>\n",
       "    <tr>\n",
       "      <th>Matches_BO3</th>\n",
       "      <td>8</td>\n",
       "      <td>7</td>\n",
       "      <td>4-2</td>\n",
       "      <td>2</td>\n",
       "    </tr>\n",
       "  </tbody>\n",
       "</table>\n",
       "</div>"
      ],
      "text/plain": [
       "             count unique       top freq\n",
       "Equipos          8      8   PSG.LGD    1\n",
       "Win/Tie/Loss     8      5       1-2    4\n",
       "Matches_BO3      8      7       4-2    2"
      ]
     },
     "execution_count": 45,
     "metadata": {},
     "output_type": "execute_result"
    }
   ],
   "source": [
    "df3.describe().T"
   ]
  },
  {
   "cell_type": "code",
   "execution_count": null,
   "id": "4d67e1a1",
   "metadata": {},
   "outputs": [],
   "source": []
  }
 ],
 "metadata": {
  "kernelspec": {
   "display_name": "Python 3 (ipykernel)",
   "language": "python",
   "name": "python3"
  },
  "language_info": {
   "codemirror_mode": {
    "name": "ipython",
    "version": 3
   },
   "file_extension": ".py",
   "mimetype": "text/x-python",
   "name": "python",
   "nbconvert_exporter": "python",
   "pygments_lexer": "ipython3",
   "version": "3.10.11"
  }
 },
 "nbformat": 4,
 "nbformat_minor": 5
}
